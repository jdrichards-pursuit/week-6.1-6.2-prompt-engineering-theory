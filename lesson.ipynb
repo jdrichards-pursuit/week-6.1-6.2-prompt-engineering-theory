{
 "cells": [
  {
   "cell_type": "markdown",
   "metadata": {},
   "source": [
    "# Lesson 6.1: Prompt Engineering\n",
    "\n",
    "## Retrieving Your API Key\n",
    "\n",
    "Before we begin, you will need to retrieve your API key from Gemini.\n",
    "\n",
    "Use the following set of instructions to sign up for an account and retrieve your API key.\n",
    "\n",
    "[Gemini API Key](https://github.com/jdrichards-pursuit/gemini-api-key-acquire?tab=readme-ov-file)\n",
    "\n",
    "## Setting Up Your Environment Variables\n",
    "\n",
    "Now that you have your API key, you can set up your environment variables.\n",
    "\n",
    "Create a new file called `.env` and add the following line of code:\n",
    "\n",
    "```bash\n",
    "API_KEY=<your-api-key>\n",
    "```\n",
    "\n",
    "## Installing Required Libraries\n",
    "\n",
    "Now that you have your API key, you can install the required libraries.\n",
    "\n",
    "```bash\n",
    "pip install python-dotenv\n",
    "```\n",
    "\n",
    "## Importing Required Libraries\n",
    "\n",
    "Now that you have your API key, you can import the required libraries. When you run this code, it will print your API key to the console.\n",
    "\n",
    "\n"
   ]
  },
  {
   "cell_type": "code",
   "execution_count": null,
   "metadata": {},
   "outputs": [],
   "source": [
    "from dotenv import load_dotenv\n",
    "import os\n",
    "\n",
    "load_dotenv()\n",
    "\n",
    "api_key = os.getenv(\"API_KEY\")\n",
    "\n",
    "print(api_key)"
   ]
  },
  {
   "cell_type": "markdown",
   "metadata": {},
   "source": [
    "After viewing your API key, you may now want to remove the print statement for security reasons.\n",
    "\n",
    "## Importing Required Libraries\n",
    "\n",
    "For this lesson you will also need to install the following libraries:\n",
    "\n",
    "```bash\n",
    "pip install google-generativeai pandas\n",
    "```\n",
    "\n",
    "## Import Packages\n",
    "\n",
    "Next, import these packages into your environment.\n"
   ]
  },
  {
   "cell_type": "code",
   "execution_count": null,
   "metadata": {},
   "outputs": [],
   "source": [
    "import google.generativeai as genai\n",
    "import pandas as pd"
   ]
  },
  {
   "cell_type": "markdown",
   "metadata": {},
   "source": [
    "## Set Up API Key\n",
    "\n",
    "You will need to set up your API key using your already created environment variable.\n"
   ]
  },
  {
   "cell_type": "code",
   "execution_count": null,
   "metadata": {},
   "outputs": [],
   "source": [
    "os.environ['API_KEY'] = api_key\n",
    "genai.configure(api_key=os.environ['API_KEY'])"
   ]
  },
  {
   "cell_type": "markdown",
   "metadata": {},
   "source": [
    "## Prompt Process Under the Hood\n",
    "\n",
    "Before we begin digging into prompt engineering, let's familiarize ourselves on a high level with what happens under the hood when we send a prompt. Take a look at this link which describes [The Process of A Prompt](https://github.com/jdrichards-pursuit/prompt-process-explained).\n",
    "\n",
    "## Parts of a Prompt\n",
    "\n",
    "When creating a prompt, there are three main parts to consider:\n",
    "\n",
    "1. **Model**: The model you are using to generate the response.\n",
    "2. **System Prompt**: The system prompt is the prompt that is sent to the model. It is used to guide the model's response. (Note: Gemini doesn't have an explicit system prompt, but we are faking this to emulate OpenAI's system prompt)\n",
    "3. **Input Prompt**: The input prompt is the prompt that is sent to the model. It is used to generate the response.\n",
    "\n",
    "## System Prompt\n",
    "\n",
    "The system prompt is a prompt that is use in OpenAI's API. It is a prompt that is sent to the model before the input prompt.\n",
    "The purpose of the system prompt is to guide the model's response. We are faking this to emulate OpenAI's system prompt. In Gemini API, this is implicit. In Claude API, this is explicit using the `Human` keyword.\n"
   ]
  }
 ],
 "metadata": {
  "language_info": {
   "name": "python"
  }
 },
 "nbformat": 4,
 "nbformat_minor": 2
}
